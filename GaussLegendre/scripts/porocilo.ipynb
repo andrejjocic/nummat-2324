{
 "cells": [
  {
   "cell_type": "markdown",
   "metadata": {},
   "source": [
    "# Gauss-Legendrove kvadrature na dveh točkah\n",
    "\n",
    "Andrej Jočić\n",
    "\n",
    "## Opis problema\n",
    "\n",
    "Izpelji Gauss-Legendreovo integracijsko pravilo na dveh točkah\n",
    "\n",
    "$$\\int_{0}^{h} f(x) \\, dx = A f(x_1) + B f(x_2) + R_f$$\n",
    "\n",
    "vključno s formulo za napako $R_f$. Izpelji sestavljeno pravilo za $\\int_{a}^{b} f(x) \\, dx$ in napiši program, ki to pravilo uporabi za približno računanje integrala. Oceni, koliko izračunov funkcijske vrednosti je potrebnih, za izračun približka za\n",
    "\n",
    "$$\\int_{0}^{5} \\frac{\\sin(x)}{x} \\, dx$$\n",
    "\n",
    "na 10 decimalk natančno."
   ]
  },
  {
   "cell_type": "markdown",
   "metadata": {},
   "source": [
    "## Opis rešitve\n",
    "\n",
    "Izpeljimo splošno pravilo za $\\int_{a}^{b} f(x) \\, dx$, da ga bomo lahko uporabili na poljubnem pod-intervalu v sestavljenem pravilu.\n",
    "\n",
    "Začnemo z enostavnejšim primerom $\\int_{-1}^{1} f(x) \\, dx$. Formula mora biti točna za polinome stopnje od 0 do 3:\n",
    "\n",
    "\\begin{align}\n",
    "2 &= A + B \\\\\n",
    "0 &= A x_1 + B x_2 \\\\\n",
    "\\frac{2}{3} &= A x_1^2 + B x_2^2 \\\\\n",
    "0 &= A x_1^3 + B x_2^3 \\\\\n",
    "\\end{align}\n"
   ]
  },
  {
   "cell_type": "markdown",
   "metadata": {},
   "source": [
    "\n",
    "Iz **(2)** in **(4)** dobimo $B x_2 (x_2^2 - x_1^2) = 0$. Vsaj en od teh treh faktorjev mora biti 0.\n",
    "\n",
    "Če $B = 0$, potem **(3)** postane $\\frac{2}{3} = Ax_1^2$ in **(4)** postane $0 = Ax_1^3$. To je protislovje, torej $A \\neq 0$.\n",
    "V primeru $x_2 = 0$ dobimo popolnoma enako protislovje, torej ostane edina možnost $x_2^2 = x_1^2$."
   ]
  },
  {
   "cell_type": "markdown",
   "metadata": {},
   "source": [
    "Iz **(3)** in **(1)** imamo $\\frac{2}{3} = (A + B)x_1^2 = 2x_1^2$, torej $x_1 = \\pm \\frac{1}{\\sqrt{3}}$.\n",
    "Vozla bi lahko teoretično bila ista, vendar če $x_1 = x_2$ vstavimo v **(2)**, dobimo $0 = (A + B) \\cdot 2x_1 \\implies A + B = 0$, kar je v protislovju z **(1)**.\n",
    "\n",
    "Določili smo torej vozla $x_1 = -\\frac{1}{\\sqrt{3}}$ in $x_2 = \\frac{1}{\\sqrt{3}}$. Vstavimo v **(2)** in dobimo $A = B$, torej $A = B = 1$ zaradi **(1)**."
   ]
  },
  {
   "cell_type": "markdown",
   "metadata": {},
   "source": [
    "Prišli smo do pravila $\\int_{-1}^{1} f(x) \\, dx \\approx f(-\\frac{1}{\\sqrt{3}}) + f(\\frac{1}{\\sqrt{3}})$. Posplošimo na poljuben interval $[a, b]$ z linearno preslikavo integracijske spremeljivke $L: [-1, 1] \\to [a, b]$. Imamo $L(t) = \\frac{a + b}{2} +\\frac{b - a}{2} t$ in $dx = \\frac{b - a}{2} dt$. Uporabimo zamenjavo spremenljivke:\n",
    "\\begin{align*}\n",
    "    \\int_{a}^{b} f(x) \\, dx &= \\int_{-1}^{1} f(L(t)) \\frac{b - a}{2} \\, dt \\\\\n",
    "     &\\approx \\frac{b - a}{2} (f(L(-\\frac{1}{\\sqrt{3}})) + f(L(\\frac{1}{\\sqrt{3}})) )\\\\\n",
    "     & = \\frac{b - a}{2} (f(\\frac{a + b}{2} -\\frac{b - a}{2} \\frac{1}{\\sqrt{3}}) + f(\\frac{a + b}{2} +\\frac{b - a}{2}\\frac{1}{\\sqrt{3}}) )\n",
    "\\end{align*}"
   ]
  },
  {
   "cell_type": "markdown",
   "metadata": {},
   "source": [
    "Ko velik interval za sestavljeno pravilo razdelimo na več manjših, bo vrednost $\\frac{b - a}{2}$ enaka za vse pod-intervale. Zato jo izračunamo le enkrat, ter jo šele na koncu pomnožimo z vsoto vseh funkcijskih vrednosti."
   ]
  },
  {
   "cell_type": "markdown",
   "metadata": {},
   "source": [
    "Analitična ocena napake na intervalu $[a, b]$ je $R_f([a, b]) = \\frac{(b-a)^{2n+1}(n!)^4}{(2n+1)((2n)!)^3}f^{(2n)}(\\xi) = \\frac{(b-a)^5}{180}f^{(4)}(\\xi)$ za neko $\\xi \\in [a, b]$."
   ]
  },
  {
   "cell_type": "markdown",
   "metadata": {},
   "source": [
    "\n",
    "## Primer uporabe"
   ]
  },
  {
   "cell_type": "code",
   "execution_count": 1,
   "metadata": {},
   "outputs": [],
   "source": [
    "using GaussLegendre"
   ]
  },
  {
   "cell_type": "code",
   "execution_count": 2,
   "metadata": {},
   "outputs": [
    {
     "data": {
      "text/plain": [
       "1.999995476152958"
      ]
     },
     "metadata": {},
     "output_type": "display_data"
    }
   ],
   "source": [
    "integrate_GLQ1(sin, 0, π, 10)"
   ]
  },
  {
   "cell_type": "code",
   "execution_count": 3,
   "metadata": {},
   "outputs": [
    {
     "data": {
      "text/plain": [
       "approx_error (generic function with 1 method)"
      ]
     },
     "metadata": {},
     "output_type": "display_data"
    }
   ],
   "source": [
    "function approx_error(f, a, b, n)\n",
    "    I = integrate_GLQ1(f, a, b, n)\n",
    "    I2 = integrate_GLQ1(f, a, b, 2n)\n",
    "    return I - I2\n",
    "end"
   ]
  },
  {
   "cell_type": "code",
   "execution_count": 4,
   "metadata": {},
   "outputs": [
    {
     "name": "stdout",
     "output_type": "stream",
     "text": [
      "false\n",
      "true\n"
     ]
    }
   ],
   "source": [
    "println(abs(approx_error((x) -> sin(x) / x, 0, 5, 119)) < 1e-10)\n",
    "println(abs(approx_error((x) -> sin(x) / x, 0, 5, 120)) < 1e-10)"
   ]
  },
  {
   "cell_type": "markdown",
   "metadata": {},
   "source": [
    "Za izračun zgornjega približka na 10 decimalk natančno rabimo okrog 120 pod-intervalov oz. 240 evalvacij funkcije $f(x) = \\frac{\\sin x}{x}$."
   ]
  }
 ],
 "metadata": {
  "kernelspec": {
   "display_name": "Julia 1.10.4",
   "language": "julia",
   "name": "julia-1.10"
  },
  "language_info": {
   "file_extension": ".jl",
   "mimetype": "application/julia",
   "name": "julia",
   "version": "1.10.4"
  }
 },
 "nbformat": 4,
 "nbformat_minor": 2
}
